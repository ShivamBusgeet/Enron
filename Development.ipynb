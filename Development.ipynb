{
  "nbformat": 4,
  "nbformat_minor": 0,
  "metadata": {
    "colab": {
      "provenance": [],
      "authorship_tag": "ABX9TyM4mh+h5NI8zKHm+K69y7aS",
      "include_colab_link": true
    },
    "kernelspec": {
      "name": "python3",
      "display_name": "Python 3"
    },
    "language_info": {
      "name": "python"
    }
  },
  "cells": [
    {
      "cell_type": "markdown",
      "metadata": {
        "id": "view-in-github",
        "colab_type": "text"
      },
      "source": [
        "<a href=\"https://colab.research.google.com/github/ShivamBusgeet/Enron/blob/main/Development.ipynb\" target=\"_parent\"><img src=\"https://colab.research.google.com/assets/colab-badge.svg\" alt=\"Open In Colab\"/></a>"
      ]
    },
    {
      "cell_type": "markdown",
      "source": [
        "Pseudocodes"
      ],
      "metadata": {
        "id": "Ypk6qEat-cLd"
      }
    },
    {
      "cell_type": "code",
      "execution_count": null,
      "metadata": {
        "id": "RAefu64a9w1J"
      },
      "outputs": [],
      "source": [
        "Import the 'sqlite3' module\n",
        "Connect to the SQLite database\n",
        "Create a cursor object\n",
        "\n",
        "Set the SQL statement as follows:\n",
        "     sql = 'SELECT name FROM sqlite_master WHERE type = \"table\";'\n",
        "\n",
        "Execute the SQL statement using the database cursor:\n",
        "     cur.execute(sql)\n",
        "\n",
        "Fetch all the results from the executed SQL statement:\n",
        "     results = cur.fetchall()\n",
        "\n",
        "Return the fetched results.\n",
        "\n",
        "\n",
        "Set the SQL query as follows:\n",
        "    sql = \"PRAGMA table_info('employeelist');\"\n",
        "\n",
        "Execute the SQL query using the 'cur' cursor:\n",
        "    cur.execute(sql)\n",
        "\n",
        "Fetch all the results returned by the query and store them:\n",
        "    results = cur.fetchall()\n",
        "\n",
        "Set the SQL query as follows:\n",
        "    sql = \"PRAGMA table_info('message');\"\n",
        "\n",
        "Execute the SQL query using the 'cur' cursor:\n",
        "    cur.execute(sql)\n",
        "\n",
        "Fetch all the results returned by the query and store them:\n",
        "    results = cur.fetchall()\n",
        "\n",
        "\n",
        "Set the SQL query as follows:\n",
        "    sql = \"PRAGMA table_info('recipientinfo');\"\n",
        "\n",
        "Execute the SQL query using the 'cur' cursor:\n",
        "    cur.execute(sql)\n",
        "\n",
        "Fetch all the results returned by the query and store them:\n",
        "    results = cur.fetchall()\n",
        "\n",
        "\n",
        "Set the SQL query as follows:\n",
        "    sql = \"PRAGMA table_info('referenceinfo');\"\n",
        "\n",
        "Execute the SQL query using the 'cur' cursor:\n",
        "    cur.execute(sql)\n",
        "\n",
        "Fetch all the results returned by the query and store them:\n",
        "    results = cur.fetchall()"
      ]
    },
    {
      "cell_type": "code",
      "source": [
        "Set the SQL query as follows:\n",
        "    sql = \"SELECT date FROM message\"\n",
        "\n",
        "Execute the SQL query using the 'cur' cursor:\n",
        "    cur.execute(sql)\n",
        "\n",
        "Fetch the first row returned by the query and store it:\n",
        "    row = cur.fetchone()\n",
        "\n",
        "Print the value of the 'row' variable:\n",
        "    print(row)"
      ],
      "metadata": {
        "id": "rw3NhtAkDGrY"
      },
      "execution_count": null,
      "outputs": []
    },
    {
      "cell_type": "code",
      "source": [
        "Import the pandas library as pd\n",
        "\n",
        "Set the SQL query as follows:\n",
        "    sql = \"SELECT * FROM message;\"\n",
        "\n",
        "Load the data from the SQL query into a DataFrame:\n",
        "    message_df = pd.read_sql_query(sql, conn)\n",
        "\n",
        "Print the information about the DataFrame:\n",
        "    message_df.info()"
      ],
      "metadata": {
        "id": "1dEvP-eRDZb3"
      },
      "execution_count": null,
      "outputs": []
    },
    {
      "cell_type": "code",
      "source": [
        "Check for null values in the DataFrame:\n",
        "    null_counts = message_df.isnull().sum()\n",
        "\n",
        "Print the sum of null values for each column:\n",
        "    print(null_counts)"
      ],
      "metadata": {
        "id": "OwO5BLhnDbbl"
      },
      "execution_count": null,
      "outputs": []
    },
    {
      "cell_type": "code",
      "source": [
        "Import the seaborn library as sns\n",
        "Import the matplotlib.pyplot library as plt\n",
        "\n",
        "Set the SQL query to retrieve email dates and their corresponding counts:\n",
        "    email_date = \"\"\"\n",
        "        SELECT strftime('%Y-%m-%d', date) AS Email_Date, COUNT(*) AS Email_Count\n",
        "        FROM Message\n",
        "        GROUP BY Email_Date\n",
        "    \"\"\"\n",
        "\n",
        "Load the data from the SQL query into a DataFrame:\n",
        "    email_count_df = pd.read_sql_query(email_date, conn)\n",
        "\n",
        "Display the DataFrame:\n",
        "    print(email_count_df)"
      ],
      "metadata": {
        "id": "8qyJXMVWDlCk"
      },
      "execution_count": null,
      "outputs": []
    },
    {
      "cell_type": "code",
      "source": [
        "Set the figure size for the plot:\n",
        "    plt.figure(figsize=(20, 6))\n",
        "\n",
        "Plot the line chart using seaborn:\n",
        "    sns.lineplot(x='Email_Date', y='Email_Count', data=email_count_df)\n",
        "\n",
        "Set the tick label size for the plot:\n",
        "    plt.tick_params(labelsize=5)\n",
        "\n",
        "Set the title, x-axis label, and y-axis label for the plot:\n",
        "    plt.title('Email Count per Day')\n",
        "    plt.xlabel('Date')\n",
        "    plt.ylabel('Email Count')\n",
        "\n",
        "Rotate the x-axis tick labels by 90 degrees:\n",
        "    plt.xticks(rotation=90)\n",
        "\n",
        "Display the plot:\n",
        "    plt.show()"
      ],
      "metadata": {
        "id": "BoDhwOIvDvpO"
      },
      "execution_count": null,
      "outputs": []
    },
    {
      "cell_type": "code",
      "source": [
        "Set the SQL query as follows:\n",
        "    sql = \"PRAGMA table_info('recipientinfo');\"\n",
        "\n",
        "Execute the SQL query using the 'cur' cursor:\n",
        "    cur.execute(sql)\n",
        "\n",
        "Fetch all the results returned by the query and store them:\n",
        "    results = cur.fetchall()"
      ],
      "metadata": {
        "id": "cQvQ7_GKD6NS"
      },
      "execution_count": null,
      "outputs": []
    },
    {
      "cell_type": "code",
      "source": [
        "Set the SQL query as follows:\n",
        "    sql = \"SELECT * FROM recipientinfo;\"\n",
        "\n",
        "Load the data from the SQL query into a DataFrame:\n",
        "    recipient_df = pd.read_sql_query(sql, conn)\n",
        "\n",
        "Print the DataFrame:\n",
        "    print(recipient_df)"
      ],
      "metadata": {
        "id": "BUQkA79qECHr"
      },
      "execution_count": null,
      "outputs": []
    },
    {
      "cell_type": "code",
      "source": [
        "Set the SQL query to retrieve the top 10 senders and their corresponding send counts:\n",
        "    sender_query = \"\"\"\n",
        "        SELECT Sender, COUNT(*) AS Send_Count\n",
        "        FROM Message\n",
        "        GROUP BY Sender\n",
        "        ORDER BY Send_Count DESC\n",
        "        LIMIT 10\n",
        "    \"\"\"\n",
        "\n",
        "Load the data from the sender query into a DataFrame:\n",
        "    sender_data = pd.read_sql_query(sender_query, conn)\n",
        "\n",
        "Set the SQL query to retrieve the top 10 recipients and their corresponding recipient counts:\n",
        "    recipient_query = \"\"\"\n",
        "        SELECT rvalue, COUNT(*) AS recipient_count\n",
        "        FROM recipientinfo\n",
        "        GROUP BY rvalue\n",
        "        ORDER BY recipient_count DESC\n",
        "        LIMIT 10\n",
        "    \"\"\"\n",
        "\n",
        "Load the data from the recipient query into a DataFrame:\n",
        "    recipient_data = pd.read_sql_query(recipient_query, conn)\n"
      ],
      "metadata": {
        "id": "NzKLvgE7ElKl"
      },
      "execution_count": null,
      "outputs": []
    },
    {
      "cell_type": "code",
      "source": [
        "Set the figure size for the plot:\n",
        "    plt.figure(figsize=(10, 6))\n",
        "\n",
        "Create a bar plot using seaborn:\n",
        " \n",
        "\n",
        "Display the plot:   sns.barplot(data=sender_data, y='Sender', x='Send_Count')\n",
        "\n",
        "Set the x-axis label, y-axis label, and plot title:\n",
        "    plt.xlabel('Send Count')\n",
        "    plt.ylabel('Sender')\n",
        "    plt.title('Top 10 Most Frequent Email Senders')\n",
        "\n",
        "Adjust the spacing to avoid overlapping labels:\n",
        "    plt.tight_layout()\n",
        "    plt.show()"
      ],
      "metadata": {
        "id": "ZQvii_8AE_8F"
      },
      "execution_count": null,
      "outputs": []
    },
    {
      "cell_type": "code",
      "source": [
        "Set the figure size for the plot:\n",
        "    plt.figure(figsize=(10, 6))\n",
        "\n",
        "Create a bar plot using seaborn, specifying the color:\n",
        "    sns.barplot(data=recipient_data, y='rvalue', x='recipient_count', color='lightgreen')\n",
        "\n",
        "Set the x-axis label, y-axis label, and plot title:\n",
        "    plt.xlabel('Recipient Count')\n",
        "    plt.ylabel('Recipient ID')\n",
        "    plt.title('Top 10 Most Frequent Email Recipients')\n",
        "\n",
        "Adjust the spacing to avoid overlapping labels:\n",
        "    plt.tight_layout()\n",
        "\n",
        "Display the plot:\n",
        "    plt.show()"
      ],
      "metadata": {
        "id": "FjLsdizsFIiu"
      },
      "execution_count": null,
      "outputs": []
    },
    {
      "cell_type": "code",
      "source": [
        "Set the SQL query to retrieve recipient types and their corresponding counts:\n",
        "    type_query = \"\"\"\n",
        "        SELECT rtype, COUNT(*) AS Type_Count\n",
        "        FROM recipientinfo\n",
        "        GROUP BY rtype\n",
        "        ORDER BY Type_Count DESC\n",
        "    \"\"\"\n",
        "\n",
        "Load the data from the recipient type query into a DataFrame:\n",
        "    type_data = pd.read_sql_query(type_query, conn)\n",
        "\n",
        "Print the DataFrame:\n",
        "    print(type_data)"
      ],
      "metadata": {
        "id": "9DVAW_fhFOmS"
      },
      "execution_count": null,
      "outputs": []
    },
    {
      "cell_type": "code",
      "source": [
        "Set the figure size for the plot:\n",
        "    plt.figure(figsize=(8, 6))\n",
        "\n",
        "Create a pie chart using matplotlib.pyplot:\n",
        "    plt.pie(data=type_data, x='Type_Count', labels='rtype', autopct='%.1f%%')\n",
        "\n",
        "Set the title of the plot:\n",
        "    plt.title('Email Types')\n",
        "\n",
        "Display the plot:\n",
        "    plt.show()"
      ],
      "metadata": {
        "id": "82mwOb1hFSU-"
      },
      "execution_count": null,
      "outputs": []
    },
    {
      "cell_type": "code",
      "source": [
        "Close the database connection:\n",
        "    conn.close()"
      ],
      "metadata": {
        "id": "PfhSuT5BFkeH"
      },
      "execution_count": null,
      "outputs": []
    },
    {
      "cell_type": "markdown",
      "source": [
        "These are some errors and their solutions that I have encountered while testing the codes. It's important to carefully review the code, check for any typos or missing dependencies, and ensure the database and table structures align with the queries being executed.\n",
        "\n",
        "OperationalError: no such table: employeelist\n",
        "   Solution: Check if the 'employeelist' table exists in the SQLite database. If not, create the table before executing the query.\n",
        "\n",
        " ProgrammingError: Cannot operate on a closed cursor.\n",
        "   Solution: Ensure that the connection to the database is open and the cursor is still active before executing any queries. Re-establish the connection if necessary.\n",
        "\n",
        "AttributeError: module 'pandas' has no attribute 'read_sql_query'\n",
        "   Solution: Make sure the 'pandas' library is installed. If not, install it using the command: `pip install pandas`. Also, check if you are importing the library correctly (e.g., `import pandas as pd`).\n",
        "\n",
        "AttributeError: module 'seaborn' has no attribute 'lineplot'\n",
        "   Solution: Ensure that the 'seaborn' library is installed. If not, install it using the command: `pip install seaborn`. Also, verify that you are using the correct function name (e.g., `sns.lineplot()` instead of `sns.line_plot()`).\n",
        "\n",
        " ValueError: 'rvalue' not in index\n",
        " Error:  Solution: Verify that the column name 'rvalue' exists in the DataFrame. Check the spelling and ensure that the column name is correctly specified.\n",
        "\n",
        "\n",
        "AttributeError: 'module' object has no attribute 'pie'\n",
        "    Solution: Make sure you are using the correct function name for creating a pie chart. In this case, use `plt.pie()` instead of `plt.pie_chart()`."
      ],
      "metadata": {
        "id": "8Igwh_A0WFRD"
      }
    },
    {
      "cell_type": "markdown",
      "source": [
        "Industry Best Practices in Programming:\n",
        "\n",
        "1. Modularity: Create a modular design by breaking down the code into smaller functions or modules. This improves code organization, reusability, and maintainability.\n",
        "\n",
        "2. Commenting: Add comments to explain the purpose and functionality of the code. This helps other developers understand the code and makes it easier to maintain or modify in the future.\n",
        "\n",
        "3. Error Handling: Implement proper error handling techniques to handle exceptions and errors gracefully. This includes using try-except blocks and providing informative error messages.\n",
        "\n",
        "4. Code Reusability: Aim to write reusable code by creating functions or classes that can be used in different parts of the program or in future projects. This reduces code duplication and improves efficiency.\n",
        "\n",
        "5. Version Control: Utilize version control systems like Git and platforms like GitHub to manage and track changes to the codebase. This allows for collaboration, easy code sharing, and the ability to roll back to previous versions if needed.\n",
        "\n",
        "6. Data Validation and Cleaning: Perform data validation to ensure the integrity and correctness of the data. Handle missing or inconsistent values appropriately, such as by imputing missing data or removing outliers.\n",
        "\n",
        "7. Documentation: Document the code, including functions, classes, and modules, to provide clear explanations of their purpose, inputs, and outputs. This helps other developers understand and use the code effectively.\n",
        "\n",
        "8. Testing: Implement testing methodologies, such as unit testing or integration testing, to verify the correctness of the code and ensure it behaves as expected. Automated testing frameworks can be used for efficient and reliable testing.\n",
        "\n",
        "9. Performance Optimization: Optimize the code for better performance, such as by using efficient algorithms, reducing unnecessary computations, or optimizing database queries. This improves the overall efficiency and scalability of the program.\n",
        "\n",
        "10. Security: Implement security measures to protect sensitive data and prevent unauthorized access. This includes using secure coding practices, handling user input securely, and following relevant security guidelines.\n",
        "\n",
        "11. Code Review: Encourage code reviews by peers or team members to ensure code quality, identify potential issues or bugs, and exchange knowledge and best practices.\n",
        "\n",
        "12. Continuous Learning: Stay updated with the latest programming languages, frameworks, and best practices. Continuously improve your skills through learning resources, online courses, and participation in developer communities.\n",
        "\n",
        "In Enron Email Analysis many of the practices are implemented but some for example security and performance optimization are yet to be introduced."
      ],
      "metadata": {
        "id": "-UQHaEc-GdGA"
      }
    }
  ]
}