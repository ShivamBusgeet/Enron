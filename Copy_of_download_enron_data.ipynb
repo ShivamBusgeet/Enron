{
  "cells": [
    {
      "cell_type": "markdown",
      "metadata": {
        "id": "view-in-github",
        "colab_type": "text"
      },
      "source": [
        "<a href=\"https://colab.research.google.com/github/ShivamBusgeet/Enron/blob/main/Copy_of_download_enron_data.ipynb\" target=\"_parent\"><img src=\"https://colab.research.google.com/assets/colab-badge.svg\" alt=\"Open In Colab\"/></a>"
      ]
    },
    {
      "cell_type": "markdown",
      "source": [
        "# Downloading Enron Email Data\n",
        "\n",
        "\n",
        "\n",
        "### Full/Complete Dataset\n",
        "\n",
        "The following code-cell will download the complete Enron email database to the Colab instance.  It will take about 1-2 mins to download."
      ],
      "metadata": {
        "id": "_6s_eJ_LyO1i"
      }
    },
    {
      "cell_type": "code",
      "execution_count": 1,
      "metadata": {
        "id": "lIYdn1woOS1n",
        "colab": {
          "base_uri": "https://localhost:8080/"
        },
        "outputId": "026d602b-47fc-45b9-ee5c-dba091c89b52"
      },
      "outputs": [
        {
          "output_type": "stream",
          "name": "stdout",
          "text": [
            "--2023-05-18 05:46:18--  https://curtin-my.sharepoint.com/:u:/g/personal/211934g_curtin_edu_au/EaYagsqa2r1Bi5wtHbswGFwBH2kd2uTnz6rlka7GI36GUQ?download=1\n",
            "Resolving curtin-my.sharepoint.com (curtin-my.sharepoint.com)... 13.107.136.8, 13.107.138.8, 2620:1ec:8f8::8, ...\n",
            "Connecting to curtin-my.sharepoint.com (curtin-my.sharepoint.com)|13.107.136.8|:443... connected.\n",
            "HTTP request sent, awaiting response... 302 Found\n",
            "Location: /personal/211934g_curtin_edu_au/Documents/Teaching/ISYS2001/ISYS2001-Assignment-2-Data/enron_sqlite3.db?ga=1 [following]\n",
            "--2023-05-18 05:46:20--  https://curtin-my.sharepoint.com/personal/211934g_curtin_edu_au/Documents/Teaching/ISYS2001/ISYS2001-Assignment-2-Data/enron_sqlite3.db?ga=1\n",
            "Reusing existing connection to curtin-my.sharepoint.com:443.\n",
            "HTTP request sent, awaiting response... 200 OK\n",
            "Length: 853819392 (814M) [application/octet-stream]\n",
            "Saving to: ‘enron.db’\n",
            "\n",
            "enron.db            100%[===================>] 814.27M  57.1MB/s    in 19s     \n",
            "\n",
            "2023-05-18 05:46:39 (43.2 MB/s) - ‘enron.db’ saved [853819392/853819392]\n",
            "\n"
          ]
        }
      ],
      "source": [
        "!wget -O enron.db https://curtin-my.sharepoint.com/:u:/g/personal/211934g_curtin_edu_au/EaYagsqa2r1Bi5wtHbswGFwBH2kd2uTnz6rlka7GI36GUQ?download=1"
      ]
    },
    {
      "cell_type": "code",
      "source": [
        "import sqlite3 "
      ],
      "metadata": {
        "id": "Jy-STFnQZZt_"
      },
      "execution_count": 2,
      "outputs": []
    },
    {
      "cell_type": "code",
      "source": [
        "conn = sqlite3.connect(\"enron.db\")"
      ],
      "metadata": {
        "id": "6NgyyOD5Z0fs"
      },
      "execution_count": 3,
      "outputs": []
    },
    {
      "cell_type": "code",
      "source": [
        "cur = conn.cursor()"
      ],
      "metadata": {
        "id": "3U5JMiqEaF2p"
      },
      "execution_count": 4,
      "outputs": []
    },
    {
      "cell_type": "code",
      "source": [
        "sql = \"\"\"\n",
        "SELECT name \n",
        "FROM sqlite_master\n",
        "WHERE type = \"table\";\n",
        "\"\"\"\n",
        "cur.execute(sql)\n",
        "cur.fetchall()"
      ],
      "metadata": {
        "colab": {
          "base_uri": "https://localhost:8080/"
        },
        "id": "kKLrKP74aPmM",
        "outputId": "69cd7ddb-260a-49ce-d73e-9e9ddcb0b84a"
      },
      "execution_count": 5,
      "outputs": [
        {
          "output_type": "execute_result",
          "data": {
            "text/plain": [
              "[('employeelist',), ('message',), ('recipientinfo',), ('referenceinfo',)]"
            ]
          },
          "metadata": {},
          "execution_count": 5
        }
      ]
    },
    {
      "cell_type": "code",
      "source": [
        "sql = \"\"\"\n",
        "PRAGMA table_info('employeelist');\n",
        "\"\"\"\n",
        "\n",
        "cur.execute(sql)\n",
        "cur.fetchall()"
      ],
      "metadata": {
        "colab": {
          "base_uri": "https://localhost:8080/"
        },
        "id": "LuTVfmPQa2oQ",
        "outputId": "b564af9a-fe07-461e-8a06-4c99aba1c391"
      },
      "execution_count": 7,
      "outputs": [
        {
          "output_type": "execute_result",
          "data": {
            "text/plain": [
              "[(0, 'eid', 'INTEGER', 1, None, 1),\n",
              " (1, 'firstName', 'VARCHAR(31)', 1, \"''\", 0),\n",
              " (2, 'lastName', 'VARCHAR(31)', 1, \"''\", 0),\n",
              " (3, 'Email_id', 'VARCHAR(31)', 1, \"''\", 0),\n",
              " (4, 'Email2', 'VARCHAR(31)', 0, None, 0),\n",
              " (5, 'Email3', 'VARCHAR(31)', 0, None, 0),\n",
              " (6, 'EMail4', 'VARCHAR(31)', 0, None, 0),\n",
              " (7, 'folder', 'VARCHAR(31)', 1, \"''\", 0),\n",
              " (8, 'status', 'VARCHAR(50)', 0, None, 0)]"
            ]
          },
          "metadata": {},
          "execution_count": 7
        }
      ]
    },
    {
      "cell_type": "code",
      "source": [
        "sql = \"\"\"\n",
        "PRAGMA table_info('message');\n",
        "\"\"\"\n",
        "\n",
        "cur.execute(sql)\n",
        "cur.fetchall()"
      ],
      "metadata": {
        "colab": {
          "base_uri": "https://localhost:8080/"
        },
        "id": "Lt4HZpAocmCe",
        "outputId": "5769e494-f6f7-4203-89e3-8de0ada1d250"
      },
      "execution_count": 10,
      "outputs": [
        {
          "output_type": "execute_result",
          "data": {
            "text/plain": [
              "[(0, 'mid', 'INTEGER', 1, \"'0'\", 1),\n",
              " (1, 'sender', 'VARCHAR(127)', 1, \"''\", 0),\n",
              " (2, 'date', 'DATETIME', 0, None, 0),\n",
              " (3, 'message_id', 'VARCHAR(127)', 0, None, 0),\n",
              " (4, 'subject', 'TEXT', 0, None, 0),\n",
              " (5, 'body', 'TEXT', 0, None, 0),\n",
              " (6, 'folder', 'VARCHAR(127)', 1, \"''\", 0)]"
            ]
          },
          "metadata": {},
          "execution_count": 10
        }
      ]
    },
    {
      "cell_type": "code",
      "source": [
        "sql = \"\"\"\n",
        "PRAGMA table_info('recipientinfo');\n",
        "\"\"\"\n",
        "\n",
        "cur.execute(sql)\n",
        "cur.fetchall()"
      ],
      "metadata": {
        "colab": {
          "base_uri": "https://localhost:8080/"
        },
        "id": "ZR1dxV1XbM8t",
        "outputId": "21a298b9-9463-4196-87d0-d838538aef68"
      },
      "execution_count": 8,
      "outputs": [
        {
          "output_type": "execute_result",
          "data": {
            "text/plain": [
              "[(0, 'rid', 'INTEGER', 1, \"'0'\", 1),\n",
              " (1, 'mid', 'INTEGER', 1, \"'0'\", 0),\n",
              " (2, 'rtype', 'TEXT', 0, None, 0),\n",
              " (3, 'rvalue', 'VARCHAR(127)', 0, None, 0),\n",
              " (4, 'dater', 'DATETIME', 0, None, 0)]"
            ]
          },
          "metadata": {},
          "execution_count": 8
        }
      ]
    },
    {
      "cell_type": "code",
      "source": [
        "sql = \"\"\"\n",
        "PRAGMA table_info('referenceinfo');\n",
        "\"\"\"\n",
        "\n",
        "cur.execute(sql)\n",
        "cur.fetchall()"
      ],
      "metadata": {
        "colab": {
          "base_uri": "https://localhost:8080/"
        },
        "id": "WL5AezOGbeuW",
        "outputId": "2bd4d6ff-13ba-449b-f7fe-a77b4d2a8dec"
      },
      "execution_count": 9,
      "outputs": [
        {
          "output_type": "execute_result",
          "data": {
            "text/plain": [
              "[(0, 'rfid', 'INTEGER', 1, \"'0'\", 1),\n",
              " (1, 'mid', 'INTEGER', 1, \"'0'\", 0),\n",
              " (2, 'reference', 'TEXT', 0, None, 0)]"
            ]
          },
          "metadata": {},
          "execution_count": 9
        }
      ]
    },
    {
      "cell_type": "code",
      "source": [
        "sql = \"\"\"\n",
        "SELECT date\n",
        "FROM message\n",
        "\"\"\"\n",
        "\n",
        "cur.execute(sql)\n",
        "row = cur.fetchone()\n",
        "\n",
        "print(row)"
      ],
      "metadata": {
        "colab": {
          "base_uri": "https://localhost:8080/"
        },
        "id": "GMIblD-LcveT",
        "outputId": "61e4e475-77cc-4494-8125-e3bbea78572e"
      },
      "execution_count": 14,
      "outputs": [
        {
          "output_type": "stream",
          "name": "stdout",
          "text": [
            "('2000-01-21 04:51:00',)\n"
          ]
        }
      ]
    },
    {
      "cell_type": "code",
      "source": [
        "#using pandas library to read database\n",
        "import pandas as pd\n",
        "\n",
        "sql='''\n",
        "SELECT * from message;\n",
        "'''\n",
        "# Load the data into a \n",
        "message_df = pd.read_sql_query(sql, conn)\n",
        "message_df"
      ],
      "metadata": {
        "colab": {
          "base_uri": "https://localhost:8080/",
          "height": 867
        },
        "id": "2GfEoVr6exYc",
        "outputId": "109828db-656f-4160-86dd-ee606cd96075"
      },
      "execution_count": 16,
      "outputs": [
        {
          "output_type": "execute_result",
          "data": {
            "text/plain": [
              "           mid                     sender                 date  \\\n",
              "0           52    press.release@enron.com  2000-01-21 04:51:00   \n",
              "1           53  office.chairman@enron.com  2000-01-24 01:37:00   \n",
              "2           54  office.chairman@enron.com  2000-01-24 02:06:00   \n",
              "3           55    press.release@enron.com  2000-02-02 10:21:00   \n",
              "4           56  office.chairman@enron.com  2000-02-07 22:16:00   \n",
              "...        ...                        ...                  ...   \n",
              "252754  404923    karen.buckley@enron.com  2002-02-06 16:51:29   \n",
              "252755  404924    karen.buckley@enron.com  2002-02-06 17:17:39   \n",
              "252756  404925       liz.taylor@enron.com  2002-02-06 20:09:37   \n",
              "252757  404926       pete.davis@enron.com  2002-02-07 04:38:13   \n",
              "252758  404927       pete.davis@enron.com  2002-02-07 05:38:14   \n",
              "\n",
              "                                           message_id  \\\n",
              "0       <12435833.1075863606729.JavaMail.evans@thyme>   \n",
              "1       <29664079.1075863606676.JavaMail.evans@thyme>   \n",
              "2       <15300605.1075863606629.JavaMail.evans@thyme>   \n",
              "3       <10522232.1075863606538.JavaMail.evans@thyme>   \n",
              "4       <16056123.1075863606515.JavaMail.evans@thyme>   \n",
              "...                                               ...   \n",
              "252754  <16183734.1075840015218.JavaMail.evans@thyme>   \n",
              "252755  <28117049.1075840015191.JavaMail.evans@thyme>   \n",
              "252756  <32633742.1075840015168.JavaMail.evans@thyme>   \n",
              "252757  <17912146.1075840015125.JavaMail.evans@thyme>   \n",
              "252758  <16703414.1075840015101.JavaMail.evans@thyme>   \n",
              "\n",
              "                                                  subject  \\\n",
              "0       ENRON HOSTS ANNUAL ANALYST CONFERENCE PROVIDES...   \n",
              "1                         Over $50 -- You made it happen!   \n",
              "2                         Over $50 -- You made it happen!   \n",
              "3       ROAD-SHOW.COM Q4i.COM CHOOSE ENRON TO DELIVER ...   \n",
              "4                            Fortune Most Admired Ranking   \n",
              "...                                                   ...   \n",
              "252754                   URGENT - NEED CONFIRMATION TODAY   \n",
              "252755                                                      \n",
              "252756  Trader Presentations - 2/7 @ 2:30 p.m. (CST) i...   \n",
              "252757             Start Date: 2/7/02; HourAhead hour: 3;   \n",
              "252758             Start Date: 2/7/02; HourAhead hour: 4;   \n",
              "\n",
              "                                                     body  \\\n",
              "0       HOUSTON - Enron Corp. hosted its annual equity...   \n",
              "1       On Wall Street, people are talking about Enron...   \n",
              "2       On Wall Street, people are talking about Enron...   \n",
              "3       HOUSTON =01) Enron Broadband Services (EBS), a...   \n",
              "4       Congratulations!  For an unprecedented five ye...   \n",
              "...                                                   ...   \n",
              "252754  X-FileName: Pls confirm at what location (i.e ...   \n",
              "252755  X-FileName: Craig - I need the date and locati...   \n",
              "252756  X-FileName:      There will be two presentatio...   \n",
              "252757  X-FileName: Start Date: 2/7/02; HourAhead hour...   \n",
              "252758  X-FileName: Start Date: 2/7/02; HourAhead hour...   \n",
              "\n",
              "                                                  folder  \n",
              "0       Robert_Badeer_Aug2000Notes FoldersPress releases  \n",
              "1       Robert_Badeer_Aug2000Notes FoldersPress releases  \n",
              "2       Robert_Badeer_Aug2000Notes FoldersPress releases  \n",
              "3       Robert_Badeer_Aug2000Notes FoldersPress releases  \n",
              "4       Robert_Badeer_Aug2000Notes FoldersPress releases  \n",
              "...                                                  ...  \n",
              "252754                        ExMerge - Dean, CraigInbox  \n",
              "252755                        ExMerge - Dean, CraigInbox  \n",
              "252756                        ExMerge - Dean, CraigInbox  \n",
              "252757                        ExMerge - Dean, CraigInbox  \n",
              "252758                        ExMerge - Dean, CraigInbox  \n",
              "\n",
              "[252759 rows x 7 columns]"
            ],
            "text/html": [
              "\n",
              "  <div id=\"df-32e064a1-b601-4e86-bf06-5f0ab99afc58\">\n",
              "    <div class=\"colab-df-container\">\n",
              "      <div>\n",
              "<style scoped>\n",
              "    .dataframe tbody tr th:only-of-type {\n",
              "        vertical-align: middle;\n",
              "    }\n",
              "\n",
              "    .dataframe tbody tr th {\n",
              "        vertical-align: top;\n",
              "    }\n",
              "\n",
              "    .dataframe thead th {\n",
              "        text-align: right;\n",
              "    }\n",
              "</style>\n",
              "<table border=\"1\" class=\"dataframe\">\n",
              "  <thead>\n",
              "    <tr style=\"text-align: right;\">\n",
              "      <th></th>\n",
              "      <th>mid</th>\n",
              "      <th>sender</th>\n",
              "      <th>date</th>\n",
              "      <th>message_id</th>\n",
              "      <th>subject</th>\n",
              "      <th>body</th>\n",
              "      <th>folder</th>\n",
              "    </tr>\n",
              "  </thead>\n",
              "  <tbody>\n",
              "    <tr>\n",
              "      <th>0</th>\n",
              "      <td>52</td>\n",
              "      <td>press.release@enron.com</td>\n",
              "      <td>2000-01-21 04:51:00</td>\n",
              "      <td>&lt;12435833.1075863606729.JavaMail.evans@thyme&gt;</td>\n",
              "      <td>ENRON HOSTS ANNUAL ANALYST CONFERENCE PROVIDES...</td>\n",
              "      <td>HOUSTON - Enron Corp. hosted its annual equity...</td>\n",
              "      <td>Robert_Badeer_Aug2000Notes FoldersPress releases</td>\n",
              "    </tr>\n",
              "    <tr>\n",
              "      <th>1</th>\n",
              "      <td>53</td>\n",
              "      <td>office.chairman@enron.com</td>\n",
              "      <td>2000-01-24 01:37:00</td>\n",
              "      <td>&lt;29664079.1075863606676.JavaMail.evans@thyme&gt;</td>\n",
              "      <td>Over $50 -- You made it happen!</td>\n",
              "      <td>On Wall Street, people are talking about Enron...</td>\n",
              "      <td>Robert_Badeer_Aug2000Notes FoldersPress releases</td>\n",
              "    </tr>\n",
              "    <tr>\n",
              "      <th>2</th>\n",
              "      <td>54</td>\n",
              "      <td>office.chairman@enron.com</td>\n",
              "      <td>2000-01-24 02:06:00</td>\n",
              "      <td>&lt;15300605.1075863606629.JavaMail.evans@thyme&gt;</td>\n",
              "      <td>Over $50 -- You made it happen!</td>\n",
              "      <td>On Wall Street, people are talking about Enron...</td>\n",
              "      <td>Robert_Badeer_Aug2000Notes FoldersPress releases</td>\n",
              "    </tr>\n",
              "    <tr>\n",
              "      <th>3</th>\n",
              "      <td>55</td>\n",
              "      <td>press.release@enron.com</td>\n",
              "      <td>2000-02-02 10:21:00</td>\n",
              "      <td>&lt;10522232.1075863606538.JavaMail.evans@thyme&gt;</td>\n",
              "      <td>ROAD-SHOW.COM Q4i.COM CHOOSE ENRON TO DELIVER ...</td>\n",
              "      <td>HOUSTON =01) Enron Broadband Services (EBS), a...</td>\n",
              "      <td>Robert_Badeer_Aug2000Notes FoldersPress releases</td>\n",
              "    </tr>\n",
              "    <tr>\n",
              "      <th>4</th>\n",
              "      <td>56</td>\n",
              "      <td>office.chairman@enron.com</td>\n",
              "      <td>2000-02-07 22:16:00</td>\n",
              "      <td>&lt;16056123.1075863606515.JavaMail.evans@thyme&gt;</td>\n",
              "      <td>Fortune Most Admired Ranking</td>\n",
              "      <td>Congratulations!  For an unprecedented five ye...</td>\n",
              "      <td>Robert_Badeer_Aug2000Notes FoldersPress releases</td>\n",
              "    </tr>\n",
              "    <tr>\n",
              "      <th>...</th>\n",
              "      <td>...</td>\n",
              "      <td>...</td>\n",
              "      <td>...</td>\n",
              "      <td>...</td>\n",
              "      <td>...</td>\n",
              "      <td>...</td>\n",
              "      <td>...</td>\n",
              "    </tr>\n",
              "    <tr>\n",
              "      <th>252754</th>\n",
              "      <td>404923</td>\n",
              "      <td>karen.buckley@enron.com</td>\n",
              "      <td>2002-02-06 16:51:29</td>\n",
              "      <td>&lt;16183734.1075840015218.JavaMail.evans@thyme&gt;</td>\n",
              "      <td>URGENT - NEED CONFIRMATION TODAY</td>\n",
              "      <td>X-FileName: Pls confirm at what location (i.e ...</td>\n",
              "      <td>ExMerge - Dean, CraigInbox</td>\n",
              "    </tr>\n",
              "    <tr>\n",
              "      <th>252755</th>\n",
              "      <td>404924</td>\n",
              "      <td>karen.buckley@enron.com</td>\n",
              "      <td>2002-02-06 17:17:39</td>\n",
              "      <td>&lt;28117049.1075840015191.JavaMail.evans@thyme&gt;</td>\n",
              "      <td></td>\n",
              "      <td>X-FileName: Craig - I need the date and locati...</td>\n",
              "      <td>ExMerge - Dean, CraigInbox</td>\n",
              "    </tr>\n",
              "    <tr>\n",
              "      <th>252756</th>\n",
              "      <td>404925</td>\n",
              "      <td>liz.taylor@enron.com</td>\n",
              "      <td>2002-02-06 20:09:37</td>\n",
              "      <td>&lt;32633742.1075840015168.JavaMail.evans@thyme&gt;</td>\n",
              "      <td>Trader Presentations - 2/7 @ 2:30 p.m. (CST) i...</td>\n",
              "      <td>X-FileName:      There will be two presentatio...</td>\n",
              "      <td>ExMerge - Dean, CraigInbox</td>\n",
              "    </tr>\n",
              "    <tr>\n",
              "      <th>252757</th>\n",
              "      <td>404926</td>\n",
              "      <td>pete.davis@enron.com</td>\n",
              "      <td>2002-02-07 04:38:13</td>\n",
              "      <td>&lt;17912146.1075840015125.JavaMail.evans@thyme&gt;</td>\n",
              "      <td>Start Date: 2/7/02; HourAhead hour: 3;</td>\n",
              "      <td>X-FileName: Start Date: 2/7/02; HourAhead hour...</td>\n",
              "      <td>ExMerge - Dean, CraigInbox</td>\n",
              "    </tr>\n",
              "    <tr>\n",
              "      <th>252758</th>\n",
              "      <td>404927</td>\n",
              "      <td>pete.davis@enron.com</td>\n",
              "      <td>2002-02-07 05:38:14</td>\n",
              "      <td>&lt;16703414.1075840015101.JavaMail.evans@thyme&gt;</td>\n",
              "      <td>Start Date: 2/7/02; HourAhead hour: 4;</td>\n",
              "      <td>X-FileName: Start Date: 2/7/02; HourAhead hour...</td>\n",
              "      <td>ExMerge - Dean, CraigInbox</td>\n",
              "    </tr>\n",
              "  </tbody>\n",
              "</table>\n",
              "<p>252759 rows × 7 columns</p>\n",
              "</div>\n",
              "      <button class=\"colab-df-convert\" onclick=\"convertToInteractive('df-32e064a1-b601-4e86-bf06-5f0ab99afc58')\"\n",
              "              title=\"Convert this dataframe to an interactive table.\"\n",
              "              style=\"display:none;\">\n",
              "        \n",
              "  <svg xmlns=\"http://www.w3.org/2000/svg\" height=\"24px\"viewBox=\"0 0 24 24\"\n",
              "       width=\"24px\">\n",
              "    <path d=\"M0 0h24v24H0V0z\" fill=\"none\"/>\n",
              "    <path d=\"M18.56 5.44l.94 2.06.94-2.06 2.06-.94-2.06-.94-.94-2.06-.94 2.06-2.06.94zm-11 1L8.5 8.5l.94-2.06 2.06-.94-2.06-.94L8.5 2.5l-.94 2.06-2.06.94zm10 10l.94 2.06.94-2.06 2.06-.94-2.06-.94-.94-2.06-.94 2.06-2.06.94z\"/><path d=\"M17.41 7.96l-1.37-1.37c-.4-.4-.92-.59-1.43-.59-.52 0-1.04.2-1.43.59L10.3 9.45l-7.72 7.72c-.78.78-.78 2.05 0 2.83L4 21.41c.39.39.9.59 1.41.59.51 0 1.02-.2 1.41-.59l7.78-7.78 2.81-2.81c.8-.78.8-2.07 0-2.86zM5.41 20L4 18.59l7.72-7.72 1.47 1.35L5.41 20z\"/>\n",
              "  </svg>\n",
              "      </button>\n",
              "      \n",
              "  <style>\n",
              "    .colab-df-container {\n",
              "      display:flex;\n",
              "      flex-wrap:wrap;\n",
              "      gap: 12px;\n",
              "    }\n",
              "\n",
              "    .colab-df-convert {\n",
              "      background-color: #E8F0FE;\n",
              "      border: none;\n",
              "      border-radius: 50%;\n",
              "      cursor: pointer;\n",
              "      display: none;\n",
              "      fill: #1967D2;\n",
              "      height: 32px;\n",
              "      padding: 0 0 0 0;\n",
              "      width: 32px;\n",
              "    }\n",
              "\n",
              "    .colab-df-convert:hover {\n",
              "      background-color: #E2EBFA;\n",
              "      box-shadow: 0px 1px 2px rgba(60, 64, 67, 0.3), 0px 1px 3px 1px rgba(60, 64, 67, 0.15);\n",
              "      fill: #174EA6;\n",
              "    }\n",
              "\n",
              "    [theme=dark] .colab-df-convert {\n",
              "      background-color: #3B4455;\n",
              "      fill: #D2E3FC;\n",
              "    }\n",
              "\n",
              "    [theme=dark] .colab-df-convert:hover {\n",
              "      background-color: #434B5C;\n",
              "      box-shadow: 0px 1px 3px 1px rgba(0, 0, 0, 0.15);\n",
              "      filter: drop-shadow(0px 1px 2px rgba(0, 0, 0, 0.3));\n",
              "      fill: #FFFFFF;\n",
              "    }\n",
              "  </style>\n",
              "\n",
              "      <script>\n",
              "        const buttonEl =\n",
              "          document.querySelector('#df-32e064a1-b601-4e86-bf06-5f0ab99afc58 button.colab-df-convert');\n",
              "        buttonEl.style.display =\n",
              "          google.colab.kernel.accessAllowed ? 'block' : 'none';\n",
              "\n",
              "        async function convertToInteractive(key) {\n",
              "          const element = document.querySelector('#df-32e064a1-b601-4e86-bf06-5f0ab99afc58');\n",
              "          const dataTable =\n",
              "            await google.colab.kernel.invokeFunction('convertToInteractive',\n",
              "                                                     [key], {});\n",
              "          if (!dataTable) return;\n",
              "\n",
              "          const docLinkHtml = 'Like what you see? Visit the ' +\n",
              "            '<a target=\"_blank\" href=https://colab.research.google.com/notebooks/data_table.ipynb>data table notebook</a>'\n",
              "            + ' to learn more about interactive tables.';\n",
              "          element.innerHTML = '';\n",
              "          dataTable['output_type'] = 'display_data';\n",
              "          await google.colab.output.renderOutput(dataTable, element);\n",
              "          const docLink = document.createElement('div');\n",
              "          docLink.innerHTML = docLinkHtml;\n",
              "          element.appendChild(docLink);\n",
              "        }\n",
              "      </script>\n",
              "    </div>\n",
              "  </div>\n",
              "  "
            ]
          },
          "metadata": {},
          "execution_count": 16
        }
      ]
    },
    {
      "cell_type": "code",
      "source": [
        "#checking the number of columns with missing values\n",
        "message_df.isnull().sum()"
      ],
      "metadata": {
        "colab": {
          "base_uri": "https://localhost:8080/"
        },
        "id": "7PnnkxTRhQ3M",
        "outputId": "3c6d3cbe-8c40-4dd8-fbe5-a73e9aec3895"
      },
      "execution_count": 18,
      "outputs": [
        {
          "output_type": "execute_result",
          "data": {
            "text/plain": [
              "mid           0\n",
              "sender        0\n",
              "date          0\n",
              "message_id    0\n",
              "subject       0\n",
              "body          0\n",
              "folder        0\n",
              "dtype: int64"
            ]
          },
          "metadata": {},
          "execution_count": 18
        }
      ]
    },
    {
      "cell_type": "code",
      "source": [],
      "metadata": {
        "id": "BkuIbfr4iOE1"
      },
      "execution_count": null,
      "outputs": []
    }
  ],
  "metadata": {
    "colab": {
      "provenance": [],
      "include_colab_link": true
    },
    "kernelspec": {
      "display_name": "Python 3",
      "name": "python3"
    }
  },
  "nbformat": 4,
  "nbformat_minor": 0
}